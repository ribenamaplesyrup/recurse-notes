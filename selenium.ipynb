{
 "cells": [
  {
   "cell_type": "markdown",
   "id": "e54799b5",
   "metadata": {},
   "source": [
    "*Notebook details first attempts at scraping the web with Selenium.* \n",
    "\n",
    "We can use Selenium to automate actions within a web-browser. Setup was pretty easy: \n",
    "\n",
    "1. Install Selenium libraries with `pip install selenium`\n",
    "\n",
    "2. Install webdriver manager with `pip install webdriver-manager`"
   ]
  },
  {
   "cell_type": "markdown",
   "id": "c527b777",
   "metadata": {},
   "source": [
    "### What is Selenium?\n",
    "\n",
    "Selenium is a programming library that is compatible with multiple languages, including Python, C#, Ruby, and JavaScript. Often used for testing web applications, Selenium is popular amongst data scientists, developers, and software engineers alike with an interest in the creation and maintenance of applications. "
   ]
  },
  {
   "cell_type": "markdown",
   "id": "3a8c7c96",
   "metadata": {},
   "source": [
    "### Why use Selenium over Beautiful Soup?\n",
    "\n",
    "The main use of Selenium is extracting various data types and elements from websites and applications in order to gain information about a topic or dataset.\n",
    "\n",
    "Beautiful Soup is great for extracting context from websites but can run into trouble when websites are loading content after HTML using Javascript."
   ]
  },
  {
   "cell_type": "markdown",
   "id": "7f44d5ae",
   "metadata": {},
   "source": [
    "You can check which websites use Javascript to load content after html by installing and activating an extension like [Disable Javascript](https://developer.chrome.com/docs/devtools/javascript/disable/). As some examples: \n",
    "\n",
    "- Bandcamp stops the music and you can't click play\n",
    "- NTS allows you to navigate links but not click any play buttons, also only loads like 12 shows at a time \n",
    "- Amazon doesn't load products, menus at all \n",
    "- AirBnb doesn't load anything!\n",
    "\n",
    "Lets begin by installing everything we need: "
   ]
  },
  {
   "cell_type": "code",
   "execution_count": null,
   "id": "e712aeee",
   "metadata": {},
   "outputs": [],
   "source": [
    "from selenium import webdriver\n",
    "from selenium.webdriver.chrome.service import Service \n",
    "from webdriver_manager.chrome import ChromeDriverManager\n",
    "from selenium.webdriver.chrome.options import Options\n",
    "from selenium.webdriver.common.by import By\n",
    "import time\n",
    "from bs4 import BeautifulSoup\n",
    "import pandas as pd\n",
    "from IPython.display import display, clear_output"
   ]
  },
  {
   "cell_type": "markdown",
   "id": "0b5e23bd",
   "metadata": {},
   "source": [
    "First, we need to install the latest `webdriver_manager` for the browser we would like to automate. The webdriver acts like a bridge between Selenium and the browser. I'm using Chrome in this case so that's the driver I'll be installing: "
   ]
  },
  {
   "cell_type": "code",
   "execution_count": null,
   "id": "6dc3e477",
   "metadata": {},
   "outputs": [],
   "source": [
    "service = Service(executable_path=ChromeDriverManager().install())"
   ]
  },
  {
   "cell_type": "markdown",
   "id": "94366e05",
   "metadata": {},
   "source": [
    "Starts chrome browser:"
   ]
  },
  {
   "cell_type": "code",
   "execution_count": null,
   "id": "5c0956ed",
   "metadata": {},
   "outputs": [],
   "source": [
    "driver = webdriver.Chrome(service=service)\n"
   ]
  },
  {
   "cell_type": "markdown",
   "id": "5a8ce32d",
   "metadata": {},
   "source": [
    "Navigate to webpage we want and wait a period of time to ensure webpage has loaded fully before we try new commands. In this case I'm searching AirBnb for a cave I can stay in anywhere for a weekend:"
   ]
  },
  {
   "cell_type": "code",
   "execution_count": null,
   "id": "7a8bd68d",
   "metadata": {},
   "outputs": [],
   "source": [
    "driver.get(\"https://www.airbnb.co.uk/?tab_id=home_tab&refinement_paths%5B%5D=%2Fhomes&search_mode=flex_destinations_search&source=structured_search_input_header&search_type=category_change&date_picker_type=flexible_dates&flexible_trip_lengths%5B%5D=weekend_trip&location_search=MIN_MAP_BOUNDS&category_tag=Tag%3A670\")\n",
    "time.sleep(1)"
   ]
  },
  {
   "cell_type": "markdown",
   "id": "f5d83b27",
   "metadata": {},
   "source": [
    "The following will return a BeautifulSoup object, which represents the html document as a nested data structure:"
   ]
  },
  {
   "cell_type": "code",
   "execution_count": null,
   "id": "43cc1e4b",
   "metadata": {},
   "outputs": [],
   "source": [
    "soup= BeautifulSoup(driver.page_source, 'html.parser')\n",
    "soup"
   ]
  },
  {
   "cell_type": "markdown",
   "id": "26109152",
   "metadata": {},
   "source": [
    "Now we can extract the listings on the AirBnb page from within our Soup object easily because they have the `itemprop` attribute with the `itemListElement` value:"
   ]
  },
  {
   "cell_type": "code",
   "execution_count": null,
   "id": "be21b778",
   "metadata": {},
   "outputs": [],
   "source": [
    "listings = soup.select('[itemprop=\"itemListElement\"]')"
   ]
  },
  {
   "cell_type": "code",
   "execution_count": null,
   "id": "1c23e039",
   "metadata": {},
   "outputs": [],
   "source": [
    "def property_info(listings):\n",
    "    df = pd.DataFrame(columns = ['Location' , 'Price', 'Guests' , 'Bedrooms', 'Beds', 'Bathrooms'])\n",
    "    for i,listing in enumerate(listings):\n",
    "        details = listing.findAll(text=True)\n",
    "        location, price = details[1], details[4]\n",
    "        url = listing.select_one('[itemprop=\"url\"]')['content']\n",
    "        driver.get(\"https://\" + str(url))\n",
    "        time.sleep(1)\n",
    "        soup = BeautifulSoup(driver.page_source, 'html.parser')\n",
    "        amneties = []\n",
    "        for element in soup.findAll('li'):\n",
    "            for text in element.findAll(text=True):\n",
    "                if ' · ' not in text:\n",
    "                    amneties.append(text)\n",
    "        row = [location, price]+amneties\n",
    "        df.loc[len(df)] = row[0:6]\n",
    "        time.sleep(1)\n",
    "        clear_output(wait=True)\n",
    "        display(str(100*(i+1)/len(listings)) + \"% complete\")\n",
    "    return(df)"
   ]
  },
  {
   "cell_type": "code",
   "execution_count": null,
   "id": "80f0b728",
   "metadata": {},
   "outputs": [],
   "source": [
    "caves = property_info(listings)\n",
    "caves"
   ]
  }
 ],
 "metadata": {
  "kernelspec": {
   "display_name": "Python 3 (ipykernel)",
   "language": "python",
   "name": "python3"
  },
  "language_info": {
   "codemirror_mode": {
    "name": "ipython",
    "version": 3
   },
   "file_extension": ".py",
   "mimetype": "text/x-python",
   "name": "python",
   "nbconvert_exporter": "python",
   "pygments_lexer": "ipython3",
   "version": "3.9.12"
  }
 },
 "nbformat": 4,
 "nbformat_minor": 5
}
